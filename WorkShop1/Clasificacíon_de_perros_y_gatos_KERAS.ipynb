{
  "cells": [
    {
      "cell_type": "markdown",
      "metadata": {
        "id": "MO7qw82lO4fu"
      },
      "source": [
        "# Clasificación de perros y gatos con Keras\n"
      ]
    },
    {
      "cell_type": "markdown",
      "metadata": {
        "id": "L5DRthraO9mn"
      },
      "source": [
        "## 1 Conexión con Drive"
      ]
    },
    {
      "cell_type": "code",
      "execution_count": null,
      "metadata": {
        "colab": {
          "base_uri": "https://localhost:8080/"
        },
        "id": "SAMV9UKVOarT",
        "outputId": "9ed0389a-6303-4f6e-fde2-a199b3b5cfa6"
      },
      "outputs": [
        {
          "name": "stdout",
          "output_type": "stream",
          "text": [
            "Mounted at /content/drive\n"
          ]
        }
      ],
      "source": [
        "from google.colab import drive\n",
        "\n",
        "drive.mount('/content/drive')"
      ]
    },
    {
      "cell_type": "code",
      "execution_count": null,
      "metadata": {
        "colab": {
          "base_uri": "https://localhost:8080/"
        },
        "id": "Atulu5RQUUMt",
        "outputId": "057dbb28-1312-4a4c-ae0e-64862000f3a5"
      },
      "outputs": [
        {
          "name": "stdout",
          "output_type": "stream",
          "text": [
            "training_set\n"
          ]
        }
      ],
      "source": [
        "!ls \"/content/drive/My Drive/Deep_Learning_IA/Cat_Dog/data/training_set\""
      ]
    },
    {
      "cell_type": "code",
      "execution_count": null,
      "metadata": {
        "id": "ymgfIsjPVTKa"
      },
      "outputs": [],
      "source": [
        "from keras.preprocessing.image import ImageDataGenerator  ## Para el preprocesamiento de imagenes\n",
        "\n",
        "# Librerías de keras\n",
        "from keras.models import Sequential\n",
        "from keras.layers import Conv2D, Dropout\n",
        "from keras.optimizers import Adam\n",
        "from keras.layers import MaxPooling2D\n",
        "from keras.layers import Flatten\n",
        "from keras.layers import Dense\n",
        "from keras.optimizers import SGD"
      ]
    },
    {
      "cell_type": "code",
      "execution_count": null,
      "metadata": {
        "id": "gBF4CBW3FWMY"
      },
      "outputs": [],
      "source": [
        "# Test"
      ]
    },
    {
      "cell_type": "code",
      "execution_count": null,
      "metadata": {
        "id": "svcHoq12WAln"
      },
      "outputs": [],
      "source": [
        "## Para escalar los valores entre 0-1 y no 0-255\n",
        "\n",
        "datagen = ImageDataGenerator(rescale=1.0/255.0)"
      ]
    },
    {
      "cell_type": "code",
      "execution_count": null,
      "metadata": {
        "colab": {
          "base_uri": "https://localhost:8080/"
        },
        "id": "YKpdr2sHU-J7",
        "outputId": "6aca01e6-41b5-4530-c568-6f9663272064"
      },
      "outputs": [
        {
          "name": "stdout",
          "output_type": "stream",
          "text": [
            "Found 8005 images belonging to 2 classes.\n",
            "Found 2023 images belonging to 2 classes.\n"
          ]
        }
      ],
      "source": [
        "### con target_size decimos que tamaño de imagenes queremos, batch_size división de bloques y class_mode colocamos binario porque es una salida de dos clases.\n",
        "\n",
        "train = datagen.flow_from_directory(\n",
        "    directory=\"drive/My Drive/Deep_Learning_IA/Cat_Dog/data/training_set/training_set\",\n",
        "    target_size=(150, 150),\n",
        "    color_mode=\"rgb\",\n",
        "    batch_size=32,\n",
        "    class_mode=\"binary\"\n",
        ")\n",
        "\n",
        "\n",
        "test = datagen.flow_from_directory(\n",
        "    directory=\"drive/My Drive/Deep_Learning_IA/Cat_Dog/data/test_set/test_set\",\n",
        "    target_size=(150, 150),\n",
        "    color_mode=\"rgb\",\n",
        "    batch_size=32,\n",
        "    class_mode=\"binary\"\n",
        ")"
      ]
    },
    {
      "cell_type": "code",
      "execution_count": null,
      "metadata": {
        "colab": {
          "base_uri": "https://localhost:8080/"
        },
        "id": "n-O25yfNWo_t",
        "outputId": "e6f75576-3c4f-4a6c-ff8a-5145f5df27ee"
      },
      "outputs": [
        {
          "name": "stdout",
          "output_type": "stream",
          "text": [
            "Epoch 1/25\n",
            "251/251 [==============================] - 2718s 11s/step - loss: 0.6419 - accuracy: 0.6107 - val_loss: 0.5777 - val_accuracy: 0.6965\n",
            "Epoch 2/25\n",
            "251/251 [==============================] - 42s 167ms/step - loss: 0.5383 - accuracy: 0.7290 - val_loss: 0.5164 - val_accuracy: 0.7509\n",
            "Epoch 3/25\n",
            "251/251 [==============================] - 42s 166ms/step - loss: 0.4860 - accuracy: 0.7660 - val_loss: 0.5023 - val_accuracy: 0.7573\n",
            "Epoch 4/25\n",
            "251/251 [==============================] - 41s 165ms/step - loss: 0.4387 - accuracy: 0.7975 - val_loss: 0.4707 - val_accuracy: 0.7830\n",
            "Epoch 5/25\n",
            "251/251 [==============================] - 41s 165ms/step - loss: 0.3964 - accuracy: 0.8202 - val_loss: 0.4074 - val_accuracy: 0.8161\n",
            "Epoch 6/25\n",
            "251/251 [==============================] - 41s 164ms/step - loss: 0.3605 - accuracy: 0.8412 - val_loss: 0.3914 - val_accuracy: 0.8260\n",
            "Epoch 7/25\n",
            "251/251 [==============================] - 41s 164ms/step - loss: 0.3051 - accuracy: 0.8700 - val_loss: 0.3562 - val_accuracy: 0.8393\n",
            "Epoch 8/25\n",
            "251/251 [==============================] - 40s 159ms/step - loss: 0.2605 - accuracy: 0.8911 - val_loss: 0.3521 - val_accuracy: 0.8478\n",
            "Epoch 9/25\n",
            "251/251 [==============================] - 40s 161ms/step - loss: 0.2220 - accuracy: 0.9099 - val_loss: 0.3687 - val_accuracy: 0.8438\n",
            "Epoch 10/25\n",
            "251/251 [==============================] - 40s 158ms/step - loss: 0.1825 - accuracy: 0.9282 - val_loss: 0.3975 - val_accuracy: 0.8413\n",
            "Epoch 11/25\n",
            "251/251 [==============================] - 40s 158ms/step - loss: 0.1394 - accuracy: 0.9447 - val_loss: 0.3742 - val_accuracy: 0.8542\n",
            "Epoch 12/25\n",
            "251/251 [==============================] - 40s 159ms/step - loss: 0.1166 - accuracy: 0.9564 - val_loss: 0.4011 - val_accuracy: 0.8468\n",
            "Epoch 13/25\n",
            "251/251 [==============================] - 40s 158ms/step - loss: 0.0821 - accuracy: 0.9713 - val_loss: 0.4495 - val_accuracy: 0.8374\n",
            "Epoch 14/25\n",
            "251/251 [==============================] - 41s 163ms/step - loss: 0.0643 - accuracy: 0.9783 - val_loss: 0.4644 - val_accuracy: 0.8507\n",
            "Epoch 15/25\n",
            "251/251 [==============================] - 40s 158ms/step - loss: 0.0509 - accuracy: 0.9821 - val_loss: 0.5304 - val_accuracy: 0.8492\n",
            "Epoch 16/25\n",
            "251/251 [==============================] - 40s 160ms/step - loss: 0.0326 - accuracy: 0.9913 - val_loss: 0.5560 - val_accuracy: 0.8596\n",
            "Epoch 17/25\n",
            "251/251 [==============================] - 39s 157ms/step - loss: 0.0265 - accuracy: 0.9923 - val_loss: 0.5777 - val_accuracy: 0.8492\n",
            "Epoch 18/25\n",
            "251/251 [==============================] - 40s 158ms/step - loss: 0.0330 - accuracy: 0.9899 - val_loss: 0.6401 - val_accuracy: 0.8344\n",
            "Epoch 19/25\n",
            "251/251 [==============================] - 39s 157ms/step - loss: 0.0219 - accuracy: 0.9938 - val_loss: 0.6045 - val_accuracy: 0.8482\n",
            "Epoch 20/25\n",
            "251/251 [==============================] - 39s 157ms/step - loss: 0.0157 - accuracy: 0.9954 - val_loss: 0.6252 - val_accuracy: 0.8591\n",
            "Epoch 21/25\n",
            "251/251 [==============================] - 39s 157ms/step - loss: 0.0417 - accuracy: 0.9853 - val_loss: 0.5559 - val_accuracy: 0.8517\n",
            "Epoch 22/25\n",
            "251/251 [==============================] - 39s 156ms/step - loss: 0.0250 - accuracy: 0.9914 - val_loss: 0.7205 - val_accuracy: 0.8438\n",
            "Epoch 23/25\n",
            "251/251 [==============================] - 39s 157ms/step - loss: 0.0102 - accuracy: 0.9976 - val_loss: 0.6870 - val_accuracy: 0.8576\n",
            "Epoch 24/25\n",
            "251/251 [==============================] - 39s 155ms/step - loss: 0.0039 - accuracy: 0.9993 - val_loss: 0.7444 - val_accuracy: 0.8576\n",
            "Epoch 25/25\n",
            "251/251 [==============================] - 40s 159ms/step - loss: 0.0013 - accuracy: 0.9999 - val_loss: 0.7554 - val_accuracy: 0.8566\n"
          ]
        },
        {
          "data": {
            "text/plain": [
              "<tensorflow.python.keras.callbacks.History at 0x7f5baef6fb38>"
            ]
          },
          "execution_count": 6,
          "metadata": {
            "tags": []
          },
          "output_type": "execute_result"
        }
      ],
      "source": [
        "# Modelo de clasificacion CNN\n",
        "\n",
        "classifier = Sequential()\n",
        "\n",
        "\n",
        "## convolucion #1\n",
        "classifier.add(Conv2D(32, (3, 3), input_shape = (150, 150, 3), activation = 'relu', padding='same'))\n",
        "classifier.add(MaxPooling2D(strides=(2,2), pool_size = (2, 2)))\n",
        "\n",
        "## convolucion #2\n",
        "classifier.add(Conv2D(64, (3, 3), activation = 'relu'))\n",
        "classifier.add(MaxPooling2D(strides=(2,2), pool_size = (2, 2)))\n",
        "\n",
        "## convolucion #3\n",
        "\n",
        "classifier.add(Conv2D(64, (3, 3), activation = 'relu'))\n",
        "classifier.add(MaxPooling2D(strides=(2,2), pool_size = (2, 2)))\n",
        "\n",
        "## convolucion #4\n",
        "\n",
        "classifier.add(Conv2D(128, (3, 3), activation = 'relu'))\n",
        "classifier.add(MaxPooling2D(strides=(2,2), pool_size = (2, 2)))\n",
        "\n",
        "\n",
        "classifier.add(Flatten())  ### Aplanamos los valores\n",
        "\n",
        "classifier.add(Dense(units = 600, activation = 'relu'))  ## utilizamos 600 neuronas\n",
        "\n",
        "classifier.add(Dropout(0.5))\n",
        "classifier.add(Dense(units = 1, activation = 'sigmoid')) ## capa final sigmoid con una sola neurona\n",
        "\n",
        "sgd = SGD(lr=0.1)\n",
        "classifier.compile(optimizer = Adam(lr=0.0003), loss = 'binary_crossentropy', metrics = ['accuracy'])\n"
      ]
    },
    {
      "cell_type": "code",
      "execution_count": null,
      "metadata": {
        "id": "TBCviZwvm7ow"
      },
      "outputs": [],
      "source": [
        "classifier.fit(train,\n",
        "#steps_per_epoch = 8000,\n",
        "epochs = 25,\n",
        "validation_data = test,\n",
        "shuffle = True\n",
        "#validation_steps = 2000\n",
        ")\n"
      ]
    },
    {
      "cell_type": "code",
      "execution_count": 2,
      "metadata": {
        "id": "nCtYZOy7FZdo",
        "outputId": "a8b80745-aecd-4c20-c2bc-422fbe6e7482",
        "colab": {
          "base_uri": "https://localhost:8080/"
        }
      },
      "outputs": [
        {
          "output_type": "stream",
          "name": "stdout",
          "text": [
            "Cloning into 'team_deep_learning'...\n",
            "remote: Enumerating objects: 28, done.\u001b[K\n",
            "remote: Counting objects: 100% (28/28), done.\u001b[K\n",
            "remote: Compressing objects: 100% (24/24), done.\u001b[K\n",
            "remote: Total 28 (delta 3), reused 23 (delta 2), pack-reused 0 (from 0)\u001b[K\n",
            "Receiving objects: 100% (28/28), 1.92 MiB | 33.32 MiB/s, done.\n",
            "Resolving deltas: 100% (3/3), done.\n"
          ]
        }
      ],
      "source": [
        "!git clone https://github.com/Arley6mith/team_deep_learning.git"
      ]
    },
    {
      "cell_type": "code",
      "source": [
        "%cd team_deep_learning"
      ],
      "metadata": {
        "id": "ghdgiSzPnJZ1",
        "outputId": "5409114e-c25e-4419-eab2-29a1bffe040a",
        "colab": {
          "base_uri": "https://localhost:8080/"
        }
      },
      "execution_count": 3,
      "outputs": [
        {
          "output_type": "stream",
          "name": "stdout",
          "text": [
            "/content/team_deep_learning\n"
          ]
        }
      ]
    },
    {
      "cell_type": "code",
      "source": [
        "!git checkout feature/workout1_class\n"
      ],
      "metadata": {
        "id": "yoMPQOUpnlED",
        "outputId": "00a88e63-6c68-4fd0-9123-e89475cc1cda",
        "colab": {
          "base_uri": "https://localhost:8080/"
        }
      },
      "execution_count": 5,
      "outputs": [
        {
          "output_type": "stream",
          "name": "stdout",
          "text": [
            "Branch 'feature/workout1_class' set up to track remote branch 'feature/workout1_class' from 'origin'.\n",
            "Switched to a new branch 'feature/workout1_class'\n"
          ]
        }
      ]
    },
    {
      "cell_type": "code",
      "source": [
        "!git status"
      ],
      "metadata": {
        "id": "2s7Bic6pno0X",
        "outputId": "af9b02b7-c6aa-49b8-fcdb-f6d0c828ae3c",
        "colab": {
          "base_uri": "https://localhost:8080/"
        }
      },
      "execution_count": 6,
      "outputs": [
        {
          "output_type": "stream",
          "name": "stdout",
          "text": [
            "On branch feature/workout1_class\n",
            "Your branch is up to date with 'origin/feature/workout1_class'.\n",
            "\n",
            "nothing to commit, working tree clean\n"
          ]
        }
      ]
    },
    {
      "cell_type": "code",
      "source": [],
      "metadata": {
        "id": "5lg4pn9xnzYP"
      },
      "execution_count": null,
      "outputs": []
    }
  ],
  "metadata": {
    "accelerator": "GPU",
    "colab": {
      "name": "Clasificacíon_de_perros_y_gatos_KERAS.ipynb",
      "provenance": []
    },
    "kernelspec": {
      "display_name": "Python 3 (ipykernel)",
      "language": "python",
      "name": "python3"
    },
    "language_info": {
      "codemirror_mode": {
        "name": "ipython",
        "version": 3
      },
      "file_extension": ".py",
      "mimetype": "text/x-python",
      "name": "python",
      "nbconvert_exporter": "python",
      "pygments_lexer": "ipython3",
      "version": "3.12.2"
    }
  },
  "nbformat": 4,
  "nbformat_minor": 0
}