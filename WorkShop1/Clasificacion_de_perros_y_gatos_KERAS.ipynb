{
  "nbformat": 4,
  "nbformat_minor": 0,
  "metadata": {
    "colab": {
      "provenance": []
    },
    "kernelspec": {
      "name": "python3",
      "display_name": "Python 3"
    },
    "accelerator": "GPU"
  },
  "cells": [
    {
      "cell_type": "markdown",
      "metadata": {
        "id": "MO7qw82lO4fu"
      },
      "source": [
        "# Clasificación de perros y gatos con Keras\n"
      ]
    },
    {
      "cell_type": "markdown",
      "metadata": {
        "id": "L5DRthraO9mn"
      },
      "source": [
        "Step 1: Conexión con Drive"
      ]
    },
    {
      "cell_type": "code",
      "metadata": {
        "colab": {
          "base_uri": "https://localhost:8080/"
        },
        "id": "SAMV9UKVOarT",
        "outputId": "19b66088-ef67-485b-fd26-d8b874beeb1f"
      },
      "source": [
        "\n",
        "from google.colab import drive\n",
        "drive.mount('/content/drive', force_remount=True)\n",
        "root_dir = \"/content/drive/My Drive/\"\n",
        "base_dir = root_dir + 'Classroom/Topicos_Avanzados_IA/dataset_dogs_vs_cats/'\n",
        "print(\"base_dir is: \", base_dir)\n"
      ],
      "execution_count": null,
      "outputs": [
        {
          "output_type": "stream",
          "name": "stdout",
          "text": [
            "Mounted at /content/drive\n",
            "base_dir is:  /content/drive/My Drive/Classroom/Topicos_Avanzados_IA/dataset_dogs_vs_cats/\n"
          ]
        }
      ]
    },
    {
      "cell_type": "code",
      "source": [
        "!ls \"/content/drive/My Drive/Classroom/Topicos_Avanzados_IA/dataset_dogs_vs_cats/\""
      ],
      "metadata": {
        "colab": {
          "base_uri": "https://localhost:8080/"
        },
        "id": "R7yCE5IxnMW_",
        "outputId": "f72c1fbd-7510-4cd6-dfed-90922fa81a7b"
      },
      "execution_count": null,
      "outputs": [
        {
          "output_type": "stream",
          "name": "stdout",
          "text": [
            "test  train\n"
          ]
        }
      ]
    },
    {
      "cell_type": "markdown",
      "source": [
        "Step 2: Preprocessing and Loading Data"
      ],
      "metadata": {
        "id": "6TU1oNLBpDt3"
      }
    },
    {
      "cell_type": "code",
      "metadata": {
        "id": "ymgfIsjPVTKa",
        "colab": {
          "base_uri": "https://localhost:8080/"
        },
        "outputId": "2d58cdfb-b6ae-4e23-90b5-99c28546c905"
      },
      "source": [
        "from tensorflow.keras.preprocessing.image import ImageDataGenerator\n",
        "\n",
        "# Create an ImageDataGenerator for rescaling images\n",
        "datagen = ImageDataGenerator(rescale=1.0/255.0)\n",
        "\n",
        "# Load training data\n",
        "train = datagen.flow_from_directory(\n",
        "    directory='/content/drive/My Drive/Classroom/Topicos_Avanzados_IA/dataset_dogs_vs_cats/train',\n",
        "    target_size=(150, 150),\n",
        "    color_mode=\"rgb\",\n",
        "    batch_size=32,\n",
        "    class_mode=\"binary\"\n",
        ")\n",
        "\n",
        "# Load test data\n",
        "test = datagen.flow_from_directory(\n",
        "    directory='/content/drive/My Drive/Classroom/Topicos_Avanzados_IA/dataset_dogs_vs_cats/test',\n",
        "    target_size=(150, 150),\n",
        "    color_mode=\"rgb\",\n",
        "    batch_size=32,\n",
        "    class_mode=\"binary\"\n",
        ")\n"
      ],
      "execution_count": null,
      "outputs": [
        {
          "output_type": "stream",
          "name": "stdout",
          "text": [
            "Found 8000 images belonging to 2 classes.\n",
            "Found 1999 images belonging to 2 classes.\n"
          ]
        }
      ]
    },
    {
      "cell_type": "markdown",
      "source": [
        "Step 3: Build the CNN Model\n",
        "\n",
        "Includes convolutional layers, max-pooling, and fully connected layers."
      ],
      "metadata": {
        "id": "iZZqhhl2pVt-"
      }
    },
    {
      "cell_type": "code",
      "source": [
        "from keras.models import Sequential\n",
        "from keras.layers import Conv2D, Dropout, MaxPooling2D, Flatten, Dense\n",
        "from keras.optimizers import Adam\n",
        "\n",
        "# Initialize the model\n",
        "classifier = Sequential()\n",
        "\n",
        "# Convolution layer 1\n",
        "classifier.add(Conv2D(32, (3, 3), input_shape=(150, 150, 3), activation='relu', padding='same'))\n",
        "classifier.add(MaxPooling2D(strides=(2,2), pool_size=(2, 2)))\n",
        "\n",
        "# Convolution layer 2\n",
        "classifier.add(Conv2D(64, (3, 3), activation='relu'))\n",
        "classifier.add(MaxPooling2D(strides=(2,2), pool_size=(2, 2)))\n",
        "\n",
        "# Convolution layer 3\n",
        "classifier.add(Conv2D(64, (3, 3), activation='relu'))\n",
        "classifier.add(MaxPooling2D(strides=(2,2), pool_size=(2, 2)))\n",
        "\n",
        "# Convolution layer 4\n",
        "classifier.add(Conv2D(128, (3, 3), activation='relu'))\n",
        "classifier.add(MaxPooling2D(strides=(2,2), pool_size=(2, 2)))\n",
        "\n",
        "# Flatten the results from convolutional layers\n",
        "classifier.add(Flatten())\n",
        "\n",
        "# Fully connected layer\n",
        "classifier.add(Dense(units=600, activation='relu'))\n",
        "classifier.add(Dropout(0.5))\n",
        "\n",
        "# Output layer\n",
        "classifier.add(Dense(units=1, activation='sigmoid'))\n",
        "\n",
        "# Compile the model\n",
        "classifier.compile(optimizer=Adam(learning_rate=0.0003), loss='binary_crossentropy', metrics=['accuracy'])\n"
      ],
      "metadata": {
        "colab": {
          "base_uri": "https://localhost:8080/"
        },
        "id": "KOx6qNjkpNsP",
        "outputId": "a295f666-d170-4f3f-a70a-b338d4bfdb55"
      },
      "execution_count": null,
      "outputs": [
        {
          "output_type": "stream",
          "name": "stderr",
          "text": [
            "/usr/local/lib/python3.10/dist-packages/keras/src/layers/convolutional/base_conv.py:107: UserWarning: Do not pass an `input_shape`/`input_dim` argument to a layer. When using Sequential models, prefer using an `Input(shape)` object as the first layer in the model instead.\n",
            "  super().__init__(activity_regularizer=activity_regularizer, **kwargs)\n"
          ]
        }
      ]
    },
    {
      "cell_type": "markdown",
      "source": [
        "Step 4: Train the Model and graph the training process"
      ],
      "metadata": {
        "id": "W3nOtNQopu3N"
      }
    },
    {
      "cell_type": "code",
      "metadata": {
        "id": "gBF4CBW3FWMY",
        "colab": {
          "base_uri": "https://localhost:8080/",
          "height": 880
        },
        "outputId": "54866ad7-4f0c-4a8e-c841-3e91bdcc6f67"
      },
      "source": [
        "\n",
        "# Train the model and capture the history\n",
        "history = classifier.fit(\n",
        "    train,\n",
        "    steps_per_epoch=train.samples // train.batch_size,\n",
        "    epochs=5,\n",
        "    validation_data=test,\n",
        "    validation_steps=test.samples // test.batch_size\n",
        ")\n",
        "\n",
        "# Plotting training & validation accuracy\n",
        "import matplotlib.pyplot as plt\n",
        "plt.figure(figsize=(12, 6))\n",
        "\n",
        "# Loss\n",
        "plt.subplot(1, 2, 2)\n",
        "plt.plot(history.history['loss'], label='Train Loss')\n",
        "plt.plot(history.history['val_loss'], label='Validation Loss')\n",
        "plt.title('Model Loss')\n",
        "plt.xlabel('Epoch')\n",
        "plt.ylabel('Loss')\n",
        "plt.legend(loc='best')\n",
        "\n",
        "# Accuracy\n",
        "plt.subplot(1, 2, 1)\n",
        "plt.plot(history.history['accuracy'], label='Train Accuracy')\n",
        "plt.plot(history.history['val_accuracy'], label='Validation Accuracy')\n",
        "plt.title('Model Accuracy')\n",
        "plt.xlabel('Epoch')\n",
        "plt.ylabel('Accuracy')\n",
        "plt.legend(loc='best')\n",
        "\n",
        "# Show the plot\n",
        "plt.tight_layout()\n",
        "plt.show()\n"
      ],
      "execution_count": null,
      "outputs": [
        {
          "metadata": {
            "tags": null
          },
          "name": "stdout",
          "output_type": "stream",
          "text": [
            "Epoch 1/5\n"
          ]
        },
        {
          "metadata": {
            "tags": null
          },
          "name": "stderr",
          "output_type": "stream",
          "text": [
            "/usr/local/lib/python3.10/dist-packages/keras/src/trainers/data_adapters/py_dataset_adapter.py:121: UserWarning: Your `PyDataset` class should call `super().__init__(**kwargs)` in its constructor. `**kwargs` can include `workers`, `use_multiprocessing`, `max_queue_size`. Do not pass these arguments to `fit()`, as they will be ignored.\n",
            "  self._warn_if_super_not_called()\n"
          ]
        },
        {
          "output_type": "stream",
          "name": "stdout",
          "text": [
            "\u001b[1m250/250\u001b[0m \u001b[32m━━━━━━━━━━━━━━━━━━━━\u001b[0m\u001b[37m\u001b[0m \u001b[1m8317s\u001b[0m 33s/step - accuracy: 0.5497 - loss: 0.6764 - val_accuracy: 0.6966 - val_loss: 0.5898\n",
            "Epoch 2/5\n"
          ]
        },
        {
          "output_type": "stream",
          "name": "stderr",
          "text": [
            "/usr/lib/python3.10/contextlib.py:153: UserWarning: Your input ran out of data; interrupting training. Make sure that your dataset or generator can generate at least `steps_per_epoch * epochs` batches. You may need to use the `.repeat()` function when building your dataset.\n",
            "  self.gen.throw(typ, value, traceback)\n"
          ]
        },
        {
          "output_type": "stream",
          "name": "stdout",
          "text": [
            "\r\u001b[1m250/250\u001b[0m \u001b[32m━━━━━━━━━━━━━━━━━━━━\u001b[0m\u001b[37m\u001b[0m \u001b[1m31s\u001b[0m 123ms/step - accuracy: 0.0000e+00 - loss: 0.0000e+00 - val_accuracy: 0.6667 - val_loss: 0.6501\n",
            "Epoch 3/5\n",
            "\u001b[1m250/250\u001b[0m \u001b[32m━━━━━━━━━━━━━━━━━━━━\u001b[0m\u001b[37m\u001b[0m \u001b[1m46s\u001b[0m 179ms/step - accuracy: 0.7000 - loss: 0.5701 - val_accuracy: 0.7243 - val_loss: 0.5263\n",
            "Epoch 4/5\n",
            "\u001b[1m250/250\u001b[0m \u001b[32m━━━━━━━━━━━━━━━━━━━━\u001b[0m\u001b[37m\u001b[0m \u001b[1m2s\u001b[0m 6ms/step - accuracy: 0.0000e+00 - loss: 0.0000e+00 - val_accuracy: 0.8667 - val_loss: 0.4144\n",
            "Epoch 5/5\n",
            "\u001b[1m250/250\u001b[0m \u001b[32m━━━━━━━━━━━━━━━━━━━━\u001b[0m\u001b[37m\u001b[0m \u001b[1m81s\u001b[0m 180ms/step - accuracy: 0.7405 - loss: 0.5161 - val_accuracy: 0.7717 - val_loss: 0.4784\n"
          ]
        },
        {
          "output_type": "display_data",
          "data": {
            "text/plain": [
              "<Figure size 1200x600 with 2 Axes>"
            ],
            "image/png": "[encoded data removed]"
          },
          "metadata": {}
        }
      ]
    },
    {
      "cell_type": "markdown",
      "source": [],
      "metadata": {
        "id": "vUPy2mqkp7C_"
      }
    },
    {
      "cell_type": "markdown",
      "source": [],
      "metadata": {
        "id": "9CMaLjHbp7GI"
      }
    },
    {
      "cell_type": "markdown",
      "source": [],
      "metadata": {
        "id": "4SSoSfQTp7I2"
      }
    },
    {
      "cell_type": "markdown",
      "source": [],
      "metadata": {
        "id": "XGryzOSLp7LP"
      }
    },
    {
      "cell_type": "code",
      "metadata": {
        "id": "n-O25yfNWo_t",
        "colab": {
          "base_uri": "https://localhost:8080/"
        },
        "outputId": "e6f75576-3c4f-4a6c-ff8a-5145f5df27ee"
      },
      "source": [
        "# Modelo de clasificacion CNN\n",
        "\n",
        "classifier = Sequential()\n",
        "\n",
        "\n",
        "## convolucion #1\n",
        "classifier.add(Conv2D(32, (3, 3), input_shape = (150, 150, 3), activation = 'relu', padding='same'))\n",
        "classifier.add(MaxPooling2D(strides=(2,2), pool_size = (2, 2)))\n",
        "\n",
        "## convolucion #2\n",
        "classifier.add(Conv2D(64, (3, 3), activation = 'relu'))\n",
        "classifier.add(MaxPooling2D(strides=(2,2), pool_size = (2, 2)))\n",
        "\n",
        "## convolucion #3\n",
        "\n",
        "classifier.add(Conv2D(64, (3, 3), activation = 'relu'))\n",
        "classifier.add(MaxPooling2D(strides=(2,2), pool_size = (2, 2)))\n",
        "\n",
        "## convolucion #4\n",
        "\n",
        "classifier.add(Conv2D(128, (3, 3), activation = 'relu'))\n",
        "classifier.add(MaxPooling2D(strides=(2,2), pool_size = (2, 2)))\n",
        "\n",
        "\n",
        "classifier.add(Flatten())  ### Aplanamos los valores\n",
        "\n",
        "classifier.add(Dense(units = 600, activation = 'relu'))  ## utilizamos 600 neuronas\n",
        "\n",
        "classifier.add(Dropout(0.5))\n",
        "classifier.add(Dense(units = 1, activation = 'sigmoid')) ## capa final sigmoid con una sola neurona\n",
        "\n",
        "sgd = SGD(lr=0.1)\n",
        "classifier.compile(optimizer = Adam(lr=0.0003), loss = 'binary_crossentropy', metrics = ['accuracy'])\n",
        "\n",
        "\n",
        "classifier.fit(train,\n",
        "#steps_per_epoch = 8000,\n",
        "epochs = 25,\n",
        "validation_data = test,\n",
        "shuffle = True\n",
        "#validation_steps = 2000\n",
        ")"
      ],
      "execution_count": null,
      "outputs": [
        {
          "output_type": "stream",
          "text": [
            "Epoch 1/25\n",
            "251/251 [==============================] - 2718s 11s/step - loss: 0.6419 - accuracy: 0.6107 - val_loss: 0.5777 - val_accuracy: 0.6965\n",
            "Epoch 2/25\n",
            "251/251 [==============================] - 42s 167ms/step - loss: 0.5383 - accuracy: 0.7290 - val_loss: 0.5164 - val_accuracy: 0.7509\n",
            "Epoch 3/25\n",
            "251/251 [==============================] - 42s 166ms/step - loss: 0.4860 - accuracy: 0.7660 - val_loss: 0.5023 - val_accuracy: 0.7573\n",
            "Epoch 4/25\n",
            "251/251 [==============================] - 41s 165ms/step - loss: 0.4387 - accuracy: 0.7975 - val_loss: 0.4707 - val_accuracy: 0.7830\n",
            "Epoch 5/25\n",
            "251/251 [==============================] - 41s 165ms/step - loss: 0.3964 - accuracy: 0.8202 - val_loss: 0.4074 - val_accuracy: 0.8161\n",
            "Epoch 6/25\n",
            "251/251 [==============================] - 41s 164ms/step - loss: 0.3605 - accuracy: 0.8412 - val_loss: 0.3914 - val_accuracy: 0.8260\n",
            "Epoch 7/25\n",
            "251/251 [==============================] - 41s 164ms/step - loss: 0.3051 - accuracy: 0.8700 - val_loss: 0.3562 - val_accuracy: 0.8393\n",
            "Epoch 8/25\n",
            "251/251 [==============================] - 40s 159ms/step - loss: 0.2605 - accuracy: 0.8911 - val_loss: 0.3521 - val_accuracy: 0.8478\n",
            "Epoch 9/25\n",
            "251/251 [==============================] - 40s 161ms/step - loss: 0.2220 - accuracy: 0.9099 - val_loss: 0.3687 - val_accuracy: 0.8438\n",
            "Epoch 10/25\n",
            "251/251 [==============================] - 40s 158ms/step - loss: 0.1825 - accuracy: 0.9282 - val_loss: 0.3975 - val_accuracy: 0.8413\n",
            "Epoch 11/25\n",
            "251/251 [==============================] - 40s 158ms/step - loss: 0.1394 - accuracy: 0.9447 - val_loss: 0.3742 - val_accuracy: 0.8542\n",
            "Epoch 12/25\n",
            "251/251 [==============================] - 40s 159ms/step - loss: 0.1166 - accuracy: 0.9564 - val_loss: 0.4011 - val_accuracy: 0.8468\n",
            "Epoch 13/25\n",
            "251/251 [==============================] - 40s 158ms/step - loss: 0.0821 - accuracy: 0.9713 - val_loss: 0.4495 - val_accuracy: 0.8374\n",
            "Epoch 14/25\n",
            "251/251 [==============================] - 41s 163ms/step - loss: 0.0643 - accuracy: 0.9783 - val_loss: 0.4644 - val_accuracy: 0.8507\n",
            "Epoch 15/25\n",
            "251/251 [==============================] - 40s 158ms/step - loss: 0.0509 - accuracy: 0.9821 - val_loss: 0.5304 - val_accuracy: 0.8492\n",
            "Epoch 16/25\n",
            "251/251 [==============================] - 40s 160ms/step - loss: 0.0326 - accuracy: 0.9913 - val_loss: 0.5560 - val_accuracy: 0.8596\n",
            "Epoch 17/25\n",
            "251/251 [==============================] - 39s 157ms/step - loss: 0.0265 - accuracy: 0.9923 - val_loss: 0.5777 - val_accuracy: 0.8492\n",
            "Epoch 18/25\n",
            "251/251 [==============================] - 40s 158ms/step - loss: 0.0330 - accuracy: 0.9899 - val_loss: 0.6401 - val_accuracy: 0.8344\n",
            "Epoch 19/25\n",
            "251/251 [==============================] - 39s 157ms/step - loss: 0.0219 - accuracy: 0.9938 - val_loss: 0.6045 - val_accuracy: 0.8482\n",
            "Epoch 20/25\n",
            "251/251 [==============================] - 39s 157ms/step - loss: 0.0157 - accuracy: 0.9954 - val_loss: 0.6252 - val_accuracy: 0.8591\n",
            "Epoch 21/25\n",
            "251/251 [==============================] - 39s 157ms/step - loss: 0.0417 - accuracy: 0.9853 - val_loss: 0.5559 - val_accuracy: 0.8517\n",
            "Epoch 22/25\n",
            "251/251 [==============================] - 39s 156ms/step - loss: 0.0250 - accuracy: 0.9914 - val_loss: 0.7205 - val_accuracy: 0.8438\n",
            "Epoch 23/25\n",
            "251/251 [==============================] - 39s 157ms/step - loss: 0.0102 - accuracy: 0.9976 - val_loss: 0.6870 - val_accuracy: 0.8576\n",
            "Epoch 24/25\n",
            "251/251 [==============================] - 39s 155ms/step - loss: 0.0039 - accuracy: 0.9993 - val_loss: 0.7444 - val_accuracy: 0.8576\n",
            "Epoch 25/25\n",
            "251/251 [==============================] - 40s 159ms/step - loss: 0.0013 - accuracy: 0.9999 - val_loss: 0.7554 - val_accuracy: 0.8566\n"
          ],
          "name": "stdout"
        },
        {
          "output_type": "execute_result",
          "data": {
            "text/plain": [
              "<tensorflow.python.keras.callbacks.History at 0x7f5baef6fb38>"
            ]
          },
          "metadata": {
            "tags": []
          },
          "execution_count": 6
        }
      ]
    },
    {
      "cell_type": "code",
      "metadata": {
        "id": "nCtYZOy7FZdo"
      },
      "source": [],
      "execution_count": null,
      "outputs": []
    },
    {
      "cell_type": "code",
      "source": [],
      "metadata": {
        "id": "IF3TuOOtjkVb"
      },
      "execution_count": null,
      "outputs": []
    },
    {
      "cell_type": "markdown",
      "source": [
        "## Transfer learning\n",
        "Three models — VGG16, EfficientNet, and ResNet50 — are solid choices, they have different strengths. Here's a comparison:\n",
        "\n",
        "- VGG16:\n",
        "\n",
        "Pros: Simple and easy to use. Good baseline for smaller datasets.\n",
        "Cons: Large number of parameters, which can lead to slower training and high memory usage. It is less efficient than newer models like EfficientNet or ResNet.\n",
        "Best for: Simpler problems or when you need a straightforward approach.\n",
        "\n",
        "- EfficientNet:\n",
        "\n",
        "Pros: Known for being more efficient and achieving state-of-the-art performance with fewer parameters. It's designed to be computationally efficient and can scale well for different problems.\n",
        "Cons: Slightly more complex than VGG16, but it is still quite efficient.\n",
        "Best for: Faster training with fewer resources and high accuracy.\n",
        "\n",
        "- ResNet50:\n",
        "\n",
        "Pros: Very popular in transfer learning tasks. It’s very deep, yet its residual blocks allow for better learning of deep models. It has shown excellent performance on many tasks, including classification.\n",
        "Cons: Slightly more computationally intensive than VGG16, but generally faster than VGG16 in practice.\n",
        "Best for: Deep learning tasks requiring very good performance."
      ],
      "metadata": {
        "id": "Ff01EW2gsfdC"
      }
    },
    {
      "cell_type": "markdown",
      "source": [
        "Let's Do Efficient Net"
      ],
      "metadata": {
        "id": "b-3su_bPs4Ny"
      }
    },
    {
      "cell_type": "code",
      "source": [
        "import matplotlib.pyplot as plt\n",
        "from tensorflow.keras.preprocessing.image import ImageDataGenerator\n",
        "from tensorflow.keras.applications import EfficientNetB0\n",
        "from tensorflow.keras.layers import Flatten, Dense, Dropout\n",
        "from tensorflow.keras.models import Model\n",
        "from tensorflow.keras.optimizers import Adam\n"
      ],
      "metadata": {
        "id": "pN5Ppm0psdjG"
      },
      "execution_count": null,
      "outputs": []
    },
    {
      "cell_type": "markdown",
      "source": [
        "Load the pre-trained EfficientNet model without the top layer (to replace it with your own classifier):"
      ],
      "metadata": {
        "id": "pkhDYrvAtTKU"
      }
    },
    {
      "cell_type": "code",
      "source": [
        "# Load the EfficientNetB0 model pre-trained on ImageNet, excluding the top classification layer\n",
        "base_model = EfficientNetB0(weights='imagenet', include_top=False, input_shape=(150, 150, 3))\n",
        "\n",
        "# Freeze the layers of the pre-trained model\n",
        "base_model.trainable = False\n",
        "\n",
        "# Build your own classifier on top\n",
        "x = base_model.output\n",
        "x = Flatten()(x)\n",
        "x = Dense(600, activation='relu')(x)\n",
        "x = Dropout(0.5)(x)\n",
        "predictions = Dense(1, activation='sigmoid')(x)\n",
        "\n",
        "# Combine the base model and the new classifier\n",
        "model = Model(inputs=base_model.input, outputs=predictions)\n",
        "\n",
        "# Compile the model\n",
        "model.compile(optimizer=Adam(learning_rate=0.0003), loss='binary_crossentropy', metrics=['accuracy'])\n"
      ],
      "metadata": {
        "id": "dZadno8ttL5-"
      },
      "execution_count": null,
      "outputs": []
    },
    {
      "cell_type": "markdown",
      "source": [
        "Data Preprocessing with ImageDataGenerator:"
      ],
      "metadata": {
        "id": "nQzFUn3-tdWi"
      }
    },
    {
      "cell_type": "code",
      "source": [
        "datagen = ImageDataGenerator(rescale=1.0/255.0)\n",
        "\n",
        "# Load training and test data\n",
        "train = datagen.flow_from_directory(\n",
        "    directory='/content/drive/My Drive/Classroom/Topicos_Avanzados_IA/dataset_dogs_vs_cats/train',\n",
        "    target_size=(150, 150),\n",
        "    color_mode=\"rgb\",\n",
        "    batch_size=32,\n",
        "    class_mode=\"binary\"\n",
        ")\n",
        "\n",
        "test = datagen.flow_from_directory(\n",
        "    directory='/content/drive/My Drive/Classroom/Topicos_Avanzados_IA/dataset_dogs_vs_cats/test',\n",
        "    target_size=(150, 150),\n",
        "    color_mode=\"rgb\",\n",
        "    batch_size=32,\n",
        "    class_mode=\"binary\"\n",
        ")\n"
      ],
      "metadata": {
        "id": "PJT7qOdntdj-"
      },
      "execution_count": null,
      "outputs": []
    },
    {
      "cell_type": "markdown",
      "source": [
        "Train and Plot the model:"
      ],
      "metadata": {
        "id": "IVqccz_1t4V0"
      }
    },
    {
      "cell_type": "code",
      "source": [
        "# Train the model and capture the history\n",
        "history = model.fit(\n",
        "    train,\n",
        "    steps_per_epoch=train.samples // train.batch_size,\n",
        "    epochs=3,\n",
        "    validation_data=test,\n",
        "    validation_steps=test.samples // test.batch_size\n",
        ")\n",
        "\n",
        "# Plotting training & validation accuracy\n",
        "plt.figure(figsize=(12, 6))\n",
        "\n",
        "# Accuracy\n",
        "plt.subplot(1, 2, 1)\n",
        "plt.plot(history.history['accuracy'], label='Train Accuracy')\n",
        "plt.plot(history.history['val_accuracy'], label='Validation Accuracy')\n",
        "plt.title('Model Accuracy')\n",
        "plt.xlabel('Epoch')\n",
        "plt.ylabel('Accuracy')\n",
        "plt.legend(loc='best')\n",
        "\n",
        "# Loss\n",
        "plt.subplot(1, 2, 2)\n",
        "plt.plot(history.history['loss'], label='Train Loss')\n",
        "plt.plot(history.history['val_loss'], label='Validation Loss')\n",
        "plt.title('Model Loss')\n",
        "plt.xlabel('Epoch')\n",
        "plt.ylabel('Loss')\n",
        "plt.legend(loc='best')\n",
        "\n",
        "# Show the plot\n",
        "plt.tight_layout()\n",
        "plt.show()\n"
      ],
      "metadata": {
        "id": "aU652u_Xt9AY"
      },
      "execution_count": null,
      "outputs": []
    },
    {
      "cell_type": "markdown",
      "source": [
        "Switching Models:\n",
        "\n",
        "If you want to use ResNet50 or VGG16 instead, simply replace EfficientNetB0 with ResNet50 or VGG16, and ensure that you use the correct input shape."
      ],
      "metadata": {
        "id": "ifNOZUtvuUHj"
      }
    },
    {
      "cell_type": "code",
      "source": [
        "from tensorflow.keras.applications import ResNet50\n",
        "\n",
        "base_model = ResNet50(weights='imagenet', include_top=False, input_shape=(150, 150, 3))\n"
      ],
      "metadata": {
        "id": "Lw9HscWCuVgI"
      },
      "execution_count": null,
      "outputs": []
    },
    {
      "cell_type": "code",
      "source": [
        "from tensorflow.keras.applications import VGG16\n",
        "\n",
        "base_model = VGG16(weights='imagenet', include_top=False, input_shape=(150, 150, 3))\n"
      ],
      "metadata": {
        "id": "3LXPqscCugsB"
      },
      "execution_count": null,
      "outputs": []
    }
  ]
}